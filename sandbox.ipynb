{
  "cells": [
    {
      "cell_type": "code",
      "execution_count": 2,
      "metadata": {
        "colab": {
          "base_uri": "https://localhost:8080/"
        },
        "id": "wkD57Ur6E2l2",
        "outputId": "0cbc6be5-b520-45ef-f45d-d9efe2ea5b14"
      },
      "outputs": [
        {
          "name": "stderr",
          "output_type": "stream",
          "text": [
            "/home/ESPL_001/dez5881/.local/lib/python3.10/site-packages/pandas/core/arrays/masked.py:60: UserWarning: Pandas requires version '1.3.6' or newer of 'bottleneck' (version '1.3.5' currently installed).\n",
            "  from pandas.core import (\n"
          ]
        },
        {
          "name": "stdout",
          "output_type": "stream",
          "text": [
            "cuda\n"
          ]
        }
      ],
      "source": [
        "import torch\n",
        "import torch.nn as nn\n",
        "import torch.optim as optim\n",
        "from torch.utils.data import DataLoader, random_split\n",
        "from torchvision import models\n",
        "from torchvision.models import *\n",
        "from plotly import express as px\n",
        "from collections import Counter\n",
        "import numpy as np\n",
        "import random\n",
        "from tqdm.notebook import tqdm\n",
        "\n",
        "\n",
        "from modules.dataset import IntelImageClassificationDataset\n",
        "from modules.utility import NotebookPlotter, InferenceSession, Evaluator, ISO_time, apply_pruning\n",
        "from modules.trainer import Trainer\n",
        "\n",
        "torch.manual_seed(1)\n",
        "DEVICE = torch.device(\"cuda\" if torch.cuda.is_available() else \"cpu\")\n",
        "print(DEVICE)\n",
        "\n",
        "def set_seed(seed=1):\n",
        "    random.seed(seed)\n",
        "    np.random.seed(seed)\n",
        "    torch.manual_seed(seed)\n",
        "    torch.cuda.manual_seed_all(seed)\n",
        "    torch.backends.cudnn.deterministic = True  # for reproducibility\n",
        "    torch.backends.cudnn.benchmark = False\n",
        "\n",
        "torch.backends.cudnn.allow_tf32 = True\n",
        "torch.backends.cuda.matmul.allow_tf32 = True\n",
        "\n",
        "set_seed(1)"
      ]
    },
    {
      "cell_type": "code",
      "execution_count": 3,
      "metadata": {
        "id": "7zDPzrOPHMyG"
      },
      "outputs": [],
      "source": [
        "choice = 1 # 1,2,3\n",
        "\n",
        "if choice != 5:\n",
        "    dataset = IntelImageClassificationDataset(resize=(150,150))\n",
        "else:\n",
        "    dataset = IntelImageClassificationDataset(resize=(384,384))\n",
        "\n",
        "# 80% train, 20% validation for training Optuna\n",
        "train_size = int(0.8 * len(dataset.train_dataset))\n",
        "val_size = len(dataset.train_dataset) - train_size\n",
        "train_subset, val_subset = random_split(dataset.train_dataset, [train_size, val_size], generator=torch.Generator().manual_seed(1))\n",
        "\n",
        "def build_model():\n",
        "\n",
        "  # SqueezeNet 1.1\n",
        "  if choice == 1:\n",
        "      model = models.squeezenet1_1(weights=SqueezeNet1_1_Weights.DEFAULT)\n",
        "      num_features = model.classifier[1].in_channels\n",
        "      kernel_size = model.classifier[1].kernel_size\n",
        "      model.classifier[1] = nn.Conv2d(num_features, 6, kernel_size)\n",
        "\n",
        "\n",
        "  # MobileNetV2\n",
        "  elif choice == 2:\n",
        "      model = models.mobilenet_v2(weights=MobileNet_V2_Weights.DEFAULT)\n",
        "      num_features = model.classifier[1].in_features\n",
        "      model.classifier[1] = nn.Linear(num_features, 6)\n",
        "\n",
        "  # MobileNetV3 Small\n",
        "  elif choice == 3:\n",
        "      model = models.mobilenet_v3_small(weights=MobileNet_V3_Small_Weights.DEFAULT)\n",
        "      num_features = model.classifier[3].in_features\n",
        "      model.classifier[3] = nn.Linear(num_features, 6)\n",
        "\n",
        "  # MobileNetV3 Large\n",
        "  elif choice == 4:\n",
        "      model = models.mobilenet_v3_large(weights=MobileNet_V3_Large_Weights.DEFAULT)\n",
        "      num_features = model.classifier[3].in_features\n",
        "      model.classifier[3] = nn.Linear(num_features, 6)\n",
        "\n",
        "  # VisionTransformer Base 16\n",
        "  elif choice == 5:\n",
        "      model = models.vit_b_16(weights=ViT_B_16_Weights.IMAGENET1K_SWAG_E2E_V1)\n",
        "      num_features = model.heads[0].in_features\n",
        "      model.heads[0] = nn.Linear(num_features, 6)\n",
        "\n",
        "  return model\n",
        "\n",
        "\n",
        "model = build_model()\n",
        "trainDataloader = DataLoader(dataset.train_dataset, batch_size=320, num_workers=4, shuffle=True)\n",
        "testDataloader = DataLoader(dataset.test_dataset, batch_size=len(dataset.test_dataset), shuffle=False)\n",
        "trainer = Trainer(model=model, lr=8.841926348917726e-05, device=DEVICE)"
      ]
    },
    {
      "cell_type": "code",
      "execution_count": 4,
      "metadata": {},
      "outputs": [
        {
          "name": "stdout",
          "output_type": "stream",
          "text": [
            "14034\n"
          ]
        }
      ],
      "source": [
        "print(len(dataset.train_dataset))"
      ]
    },
    {
      "cell_type": "code",
      "execution_count": 5,
      "metadata": {},
      "outputs": [],
      "source": [
        "epochs = 10\n",
        "lr=8.841926348917726e-05\n",
        "model = model.to(DEVICE)\n",
        "optimizer = optim.Adam(model.parameters(), lr)\n",
        "loss = nn.CrossEntropyLoss()\n",
        "scaler = torch.amp.GradScaler()\n",
        "\n",
        "prof = torch.profiler.profile(\n",
        "    activities=[torch.profiler.ProfilerActivity.CPU, torch.profiler.ProfilerActivity.CUDA],\n",
        "    schedule=torch.profiler.schedule(wait=2, warmup=3, active=10, repeat=1),\n",
        "    on_trace_ready=torch.profiler.tensorboard_trace_handler('./log/trainer_profile'),\n",
        "    record_shapes=True,\n",
        "    profile_memory=True,\n",
        "    with_stack=True,\n",
        "    with_flops=True,\n",
        "    with_modules=True\n",
        "    )\n",
        "prof.start()"
      ]
    },
    {
      "cell_type": "code",
      "execution_count": 6,
      "metadata": {},
      "outputs": [
        {
          "data": {
            "application/vnd.jupyter.widget-view+json": {
              "model_id": "e9b9e3ee3bcd4845b5b8391bf4931453",
              "version_major": 2,
              "version_minor": 0
            },
            "text/plain": [
              "  0%|          | 0/10 [00:00<?, ?it/s]"
            ]
          },
          "metadata": {},
          "output_type": "display_data"
        }
      ],
      "source": [
        "fp16 = False\n",
        "for epoch in tqdm(range(epochs)):\n",
        "    model.train()\n",
        "    if fp16:\n",
        "        for i, (data, target) in enumerate(trainDataloader):\n",
        "            optimizer.zero_grad()\n",
        "            x = data.to(DEVICE)\n",
        "            y = target.to(DEVICE)\n",
        "\n",
        "            with torch.amp.autocast(device_type=\"cuda\"):\n",
        "                x = model(x)\n",
        "\n",
        "            l = loss(x, y)\n",
        "\n",
        "            scaler.scale(l).backward()\n",
        "            scaler.step(optimizer)\n",
        "            scaler.update()\n",
        "\n",
        "            prof.step()\n",
        "    else:\n",
        "        for i, (data, target) in enumerate(trainDataloader):\n",
        "            optimizer.zero_grad()\n",
        "            x = data.to(DEVICE)\n",
        "            y = target.to(DEVICE)\n",
        "\n",
        "            x = model(x)\n",
        "            l = loss(x, y)\n",
        "\n",
        "            l.backward()\n",
        "            optimizer.step()\n",
        "\n",
        "            prof.step()\n",
        "\n",
        "prof.stop()"
      ]
    },
    {
      "cell_type": "markdown",
      "metadata": {
        "id": "XW3sIV9KE2l4"
      },
      "source": [
        "# model.load_state_dict(torch.load(f\"checkpoints/.pt\"))\n",
        "trainer.train(dataloader, epochs=epochs, silent=False)"
      ]
    },
    {
      "cell_type": "code",
      "execution_count": 6,
      "metadata": {
        "id": "VESPNHBME2l4",
        "outputId": "d4208f97-8a38-4416-d324-a4027f61ba8d"
      },
      "outputs": [
        {
          "data": {
            "text/plain": [
              "0.904121994972229"
            ]
          },
          "execution_count": 6,
          "metadata": {},
          "output_type": "execute_result"
        }
      ],
      "source": [
        "session = InferenceSession(model)\n",
        "output = session(torch.stack(tuple(item[0] for item in dataset.test_dataset)))\n",
        "Evaluator.acc(output, torch.tensor(tuple(item[1] for item in dataset.test_dataset))).item()"
      ]
    },
    {
      "cell_type": "code",
      "execution_count": 7,
      "metadata": {
        "id": "AO9K7B_yE2l5"
      },
      "outputs": [],
      "source": [
        "# torch.save(model.state_dict(), f\"checkpoints/{model.__class__.__name__}.pt\")"
      ]
    },
    {
      "cell_type": "markdown",
      "metadata": {
        "id": "A3_7nC3JE2l5"
      },
      "source": [
        "## Initial Results for Model Selection\n",
        "\n",
        "| model | accuracy | size |\n",
        "| --- | --- | --- |\n",
        "| ResNet18 | 0.87 | 44.7 MB |\n",
        "| ResNet34 | 0.88 | 83.3 MB |\n",
        "| MobileNet V2 | 0.91 | 13.6 MB |\n",
        "| MobileNet V3 small | 0.90 | 9.8 MB |\n",
        "| VGG19 | 0.83 | 548.1 MB |\n",
        "| SqueezeNet 1.0 | 0.89 | 4.8 MB |\n",
        "| DenseNet | 0.90 | 30.8 MB |\n",
        "| EfficientNet B0 | 0.92 | 20.5 MB |\n",
        "| ViT-b/16 | 0.73 | 330.3 MB |"
      ]
    }
  ],
  "metadata": {
    "accelerator": "GPU",
    "colab": {
      "gpuType": "T4",
      "provenance": []
    },
    "kernelspec": {
      "display_name": "Python 3",
      "name": "python3"
    },
    "language_info": {
      "codemirror_mode": {
        "name": "ipython",
        "version": 3
      },
      "file_extension": ".py",
      "mimetype": "text/x-python",
      "name": "python",
      "nbconvert_exporter": "python",
      "pygments_lexer": "ipython3",
      "version": "3.10.12"
    }
  },
  "nbformat": 4,
  "nbformat_minor": 0
}
